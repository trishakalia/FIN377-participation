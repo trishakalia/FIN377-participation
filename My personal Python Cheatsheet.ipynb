{
 "cells": [
  {
   "cell_type": "code",
   "execution_count": null,
   "metadata": {},
   "outputs": [],
   "source": [
    "and \n",
    "or \n",
    "() # to group \n",
    "in \n",
    "not in \n",
    "is \n",
    "is not \n",
    ">\n",
    "<\n",
    ">=\n",
    "<=\n",
    "== # equals \n",
    "!= # not equals \n",
    "\n",
    "name=object # goes ito memory and see if it goes into the memory "
   ]
  },
  {
   "cell_type": "code",
   "execution_count": null,
   "metadata": {},
   "outputs": [],
   "source": [
    "avoid x=y \n",
    "x = [1, 2, 3]\n",
    "print(type(x))\n",
    "y = x\n",
    "print(y)\n",
    "x.append(4) \n",
    "print(y) # y was changed as well... Why? Read the page above!\n",
    "\n",
    "# not the behavior wanted as wanted to change x but not y \n",
    "\n",
    "#instead do\n",
    "\n",
    "y = x.copy() ####### THAT SOLVED THE PROBLEM \n",
    "\n",
    "# everything in python is an object "
   ]
  },
  {
   "cell_type": "code",
   "execution_count": 2,
   "metadata": {},
   "outputs": [
    {
     "name": "stdout",
     "output_type": "stream",
     "text": [
      "<class 'list'>\n",
      "[1, 2, 3]\n",
      "[1, 2, 3, 4]\n"
     ]
    }
   ],
   "source": [
    "x = [1, 2, 3]\n",
    "print(type(x))\n",
    "y = x\n",
    "print(y) # print helps be a single block but also print multiple times \n",
    "x.append(4) \n",
    "print(y)"
   ]
  },
  {
   "cell_type": "code",
   "execution_count": null,
   "metadata": {},
   "outputs": [],
   "source": [
    "x = [1, 2, 3]\n",
    "print(type(x))\n",
    "y = x\n",
    "print(y)\n",
    "x.append(4) \n",
    "print(y)"
   ]
  },
  {
   "cell_type": "markdown",
   "metadata": {},
   "source": [
    "# CALLING FUNCTIONS \n",
    "\n",
    "TWO WAYS: \n",
    "    1. `OBJECT.FUNCTION(ARGUMENTS)`\n",
    "    2. `FUNCTION(OBJECT,ARGUMENTS)`"
   ]
  },
  {
   "cell_type": "code",
   "execution_count": 3,
   "metadata": {},
   "outputs": [
    {
     "data": {
      "text/plain": [
       "[1, 2, 3, 4, 5]"
      ]
     },
     "execution_count": 3,
     "metadata": {},
     "output_type": "execute_result"
    }
   ],
   "source": [
    "x.append(5) #depending on the line of the code \n",
    "x"
   ]
  },
  {
   "cell_type": "code",
   "execution_count": 4,
   "metadata": {},
   "outputs": [
    {
     "data": {
      "text/plain": [
       "5"
      ]
     },
     "execution_count": 4,
     "metadata": {},
     "output_type": "execute_result"
    }
   ],
   "source": [
    "len(x) #counts how many values "
   ]
  },
  {
   "cell_type": "code",
   "execution_count": 5,
   "metadata": {},
   "outputs": [
    {
     "data": {
      "text/plain": [
       "builtin_function_or_method"
      ]
     },
     "execution_count": 5,
     "metadata": {},
     "output_type": "execute_result"
    }
   ],
   "source": [
    "type(x.append)"
   ]
  },
  {
   "cell_type": "markdown",
   "metadata": {},
   "source": [
    "# Warnings \n",
    "\n",
    "print(1.0+2.0 == 3.0)\n",
    "print(0.1+0.2 == 0.3) # WHAT?!\n",
    "\n",
    "x=y #not allowed "
   ]
  },
  {
   "cell_type": "markdown",
   "metadata": {},
   "source": [
    "# Built in Data structures \n",
    "\n",
    "1. lists, degfine with brackets: `x=[1,2,3]` # for now stick to lists \n",
    "2. tuples, define with parenthesis: `x=(1,2,3)`\n",
    "3. dictionary, define with squiggly braces: `x={'a':[1,2,3]}`\n",
    "4. sets "
   ]
  },
  {
   "cell_type": "code",
   "execution_count": 7,
   "metadata": {},
   "outputs": [
    {
     "data": {
      "text/plain": [
       "{'a': [1, 2, 3]}"
      ]
     },
     "execution_count": 7,
     "metadata": {},
     "output_type": "execute_result"
    }
   ],
   "source": [
    "x={'a':[1,2,3]}\n",
    "x"
   ]
  },
  {
   "cell_type": "code",
   "execution_count": 8,
   "metadata": {},
   "outputs": [
    {
     "data": {
      "text/plain": [
       "{'a': [1, 2, 3]}"
      ]
     },
     "execution_count": 8,
     "metadata": {},
     "output_type": "execute_result"
    }
   ],
   "source": [
    "x"
   ]
  },
  {
   "cell_type": "markdown",
   "metadata": {},
   "source": [
    "# Very Important Tips and Stuff \n",
    "    - if you want to execute a function that rellieon randomness.... SET A SEED\n",
    "   \n",
    "    "
   ]
  },
  {
   "cell_type": "code",
   "execution_count": null,
   "metadata": {},
   "outputs": [],
   "source": [
    "iloc- integers \n",
    "loc- names "
   ]
  },
  {
   "cell_type": "code",
   "execution_count": null,
   "metadata": {},
   "outputs": [],
   "source": [
    "1. subsample to got names\n",
    "2. combines names in a year \n",
    "3. combines the plot "
   ]
  },
  {
   "cell_type": "code",
   "execution_count": null,
   "metadata": {},
   "outputs": [],
   "source": [
    "somenames = babby_names.loc[(babay_names['names']) === \"John\"]\n",
    "\n",
    "somenames. groupbbby (['name', 'year'])['count'].sum()\n",
    "\n",
    "combined = soomename,groupby "
   ]
  },
  {
   "cell_type": "code",
   "execution_count": null,
   "metadata": {},
   "outputs": [],
   "source": [
    "no real variabl so reset_index()"
   ]
  }
 ],
 "metadata": {
  "kernelspec": {
   "display_name": "Python 3",
   "language": "python",
   "name": "python3"
  },
  "language_info": {
   "codemirror_mode": {
    "name": "ipython",
    "version": 3
   },
   "file_extension": ".py",
   "mimetype": "text/x-python",
   "name": "python",
   "nbconvert_exporter": "python",
   "pygments_lexer": "ipython3",
   "version": "3.7.4"
  }
 },
 "nbformat": 4,
 "nbformat_minor": 2
}
