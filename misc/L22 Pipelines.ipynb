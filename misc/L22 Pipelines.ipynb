{
 "cells": [
  {
   "cell_type": "markdown",
   "metadata": {},
   "source": [
    "# The Cardinal sin of data leakage \n",
    "\n",
    "** Having Data in the training sample that you wouldn't have for real world predictions \n",
    "\n",
    "Examples\n",
    "1. y is explicitly in X (yikes)\n",
    "2. y is a 2018 variable, but there is a 2019 variable in X\n",
    "3. subtle: y is loan default, but X contains employee ID and some employees are brought in to handle trouble-loans (if you include it, the firm can't use the model to deploy the trouble-loan specialists)\n",
    "4. if out-of-sample predicted stock movements have R2 above 10%... unlikely! (or: you'll be richer than Bezos soon)\n",
    "5. this code below\n",
    "\n",
    "```python\n",
    "import #a bunch of sklearn stuff\n",
    "X, y = #load data\n",
    "X = transform(X) # imputation, encode cat vars, standardize\n",
    "\n",
    "# or this:\n",
    "cross_validate(model,X,y)\n",
    "\n",
    "```\n",
    "\n",
    "**Q: What's the problem here?**\n",
    "\n",
    "**A: `transform(X)` used the whole dataset, so the X_training data was altered using info from X_test**"
   ]
  },
  {
   "cell_type": "code",
   "execution_count": null,
   "metadata": {},
   "outputs": [],
   "source": [
    "x1 sample \n",
    "1 training \n",
    "nan training \n",
    "2 test\n",
    "nan test \n"
   ]
  },
  {
   "cell_type": "code",
   "execution_count": null,
   "metadata": {},
   "outputs": [],
   "source": [
    "x1 sample \n",
    "1 training \n",
    "1 training\n",
    "\n",
    "2 test\n",
    "1 test "
   ]
  },
  {
   "cell_type": "code",
   "execution_count": 2,
   "metadata": {},
   "outputs": [
    {
     "ename": "SyntaxError",
     "evalue": "invalid syntax (<ipython-input-2-a4aaa4f24939>, line 3)",
     "output_type": "error",
     "traceback": [
      "\u001b[1;36m  File \u001b[1;32m\"<ipython-input-2-a4aaa4f24939>\"\u001b[1;36m, line \u001b[1;32m3\u001b[0m\n\u001b[1;33m    - Preventing 1-4: Be very familiar with the data and how it was collected and built\u001b[0m\n\u001b[1;37m                 ^\u001b[0m\n\u001b[1;31mSyntaxError\u001b[0m\u001b[1;31m:\u001b[0m invalid syntax\n"
     ]
    }
   ],
   "source": [
    "## Avoiding Data Leakage\n",
    "\n",
    "- Preventing 1-4: Be very familiar with the data and how it was collected and built\n",
    "- Preventing 5: Do your data prep _**within**_ CV folds and where the transformations are done using only info from the training\n",
    "\n",
    "```python\n",
    "\n",
    "# loop over folds\n",
    "for train_index, test_index in StratifiedKFold(n_splits=5).split(X,y):\n",
    "\n",
    "    # .split() yields the indices in train/test sets. use those to get\n",
    "    # the x/y vars for each separated out:\n",
    "   \n",
    "    X_train, X_test = X[train_index], X[test_index]\n",
    "    y_train, y_test = y[train_index], y[test_index] ",
    "\n",
    "From Donald Bowen to Everyone: (14:04)\n",
    "    ###################################################################\n",
    "    # NEW: do the data prep inside this fold, only using training data\n",
    "    ###################################################################\n",
    "\n",
    "    # e.g. figure out means/std in Xtrain so we can impute/std\n",
    "    prep_methods.fit(Xtrain)                 # \"fit\" the transform means \"estimate (like in training a model) what to do\"\n",
    "    Xtrain = prep_methods.transform(Xtrain)  # apply those to Xtrain to impute and std\n",
    "   \n",
    "    # fit/estimate, predict OOS, evaluate and store\n",
    "    model.fit(X_train,y_train)\n",
    "   \n",
    "    ###################################################################\n",
    "    # NEW: transform the test data the same...\n",
    "    ###################################################################\n",
    "   \n",
    "    X_test = prep_methods.transform(X_test)  # apply TEST data the FIT from the TRAIN data\n",
    "   \n",
    "    y_predict = model.predict(X_test)\n",
    "    accuracy.append(   accuracy_score(y_test, y_predict)      )\n",
    "\n",
    "```"
   ]
  },
  {
   "cell_type": "markdown",
   "metadata": {},
   "source": [
    "# Our first pipeline \n",
    "\n",
    "Pipe: a sequence of steps, as long as each step has a fit and transform "
   ]
  },
  {
   "cell_type": "code",
   "execution_count": 3,
   "metadata": {},
   "outputs": [
    {
     "data": {
      "text/plain": [
       "{'fit_time': array([0.0039928, 0.0009973, 0.0009973, 0.0009973, 0.0009973]),\n",
       " 'score_time': array([0.       , 0.       , 0.0009973, 0.       , 0.       ]),\n",
       " 'test_score': array([0.96666667, 0.96666667, 0.96666667, 0.93333333, 1.        ])}"
      ]
     },
     "execution_count": 3,
     "metadata": {},
     "output_type": "execute_result"
    }
   ],
   "source": [
    "from sklearn.datasets import load_iris\n",
    "from sklearn.pipeline import make_pipeline\n",
    "from sklearn import preprocessing\n",
    "from sklearn.model_selection import cross_validate\n",
    "from sklearn import svm\n",
    "\n",
    "iris = load_iris() # data\n",
    "\n",
    "# set up the pipeline, which will, given a set of observations\n",
    "# 1. fit and apply these steps to the training fold\n",
    "# 2. in the testing fold, apply the transform and model to predict (no estimation)\n",
    "\n",
    "classifier_pipeline = make_pipeline(\n",
    "                                    preprocessing.StandardScaler(),  # clean the data\n",
    "                                    svm.SVC(C=1)                     # model\n",
    "                                    )\n",
    "\n",
    "cross_validate(classifier_pipeline, iris.data, iris.target, cv=5)"
   ]
  }
 ],
 "metadata": {
  "kernelspec": {
   "display_name": "Python 3",
   "language": "python",
   "name": "python3"
  },
  "language_info": {
   "codemirror_mode": {
    "name": "ipython",
    "version": 3
   },
   "file_extension": ".py",
   "mimetype": "text/x-python",
   "name": "python",
   "nbconvert_exporter": "python",
   "pygments_lexer": "ipython3",
   "version": "3.7.4"
  }
 },
 "nbformat": 4,
 "nbformat_minor": 2
}
