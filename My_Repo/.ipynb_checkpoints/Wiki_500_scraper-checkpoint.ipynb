{
 "cells": [
  {
   "cell_type": "code",
   "execution_count": 1,
   "metadata": {},
   "outputs": [],
   "source": [
    "import pandas as pd \n",
    "import os\n",
    "from requests_html import HTMLSession \n",
    "import re \n",
    "from time import sleep \n",
    "\n",
    "session = HTMLSession()\n"
   ]
  },
  {
   "cell_type": "code",
   "execution_count": 2,
   "metadata": {},
   "outputs": [],
   "source": [
    "### SECTION 1: get the urls to crawl \n",
    "\n",
    "# if I don't have the list/data with URLs \n",
    "if not os.path.exists('inputs/'):\n",
    "    os.makedirs('inputs/')\n",
    "\n",
    "#1. acquire the data/urls to crawl \n",
    "#2. save that data /urls \n",
    "# else \n",
    "    #open the page  \n",
    "if not os.path.exists('inputs/sp500_wiki_urls.csv'):\n",
    "\n",
    "    \n",
    "    # open the table   \n",
    "    url = 'https://en.wikipedia.org/wiki/List_of_S%26P_500_companies'\n",
    "    session = HTMLSession()\n",
    "    r = session.get(url)\n",
    "\n",
    "    # grab the URLs \n",
    "    table = r.html.find('#constituents') [0] # id so use # sign \n",
    "    table_rows = table.find('tr')\n",
    "    colinks = []\n",
    "    for row in table_rows[1:]:\n",
    "        colinks.append(list(row.find('td')[1].absolute_links)[0] )\n",
    " # save it      \n",
    "    pd.DataFrame(colinks).to_csv('inputs/sp500_wiki_urls.csv', index=False, header=False)\n",
    "    \n",
    "else:\n",
    "    colinks = pd.read_csv('inputs/sp500_wiki_urls.csv', names=['firm'])['firm'].to_list()\n",
    "    \n",
    "#TODO (students)"
   ]
  },
  {
   "cell_type": "code",
   "execution_count": null,
   "metadata": {},
   "outputs": [
    {
     "name": "stdout",
     "output_type": "stream",
     "text": [
      "save me!\n",
      "save me!\n",
      "save me!\n",
      "save me!\n",
      "save me!\n"
     ]
    }
   ],
   "source": [
    "#### SECTION 2: Crawl the URLs \n",
    "\n",
    "for url in colinks:\n",
    "    folder = 'wiki_html'\n",
    "    filepath = folder + '/' +re.sub(r'\\W+','',url.split('/')[-1])+ '.txt'\n",
    "    if not os.path.exists(filepath):\n",
    "        try:\n",
    "            r=session.get(url)\n",
    "            \n",
    "        except: \n",
    "            print('crap...')\n",
    "        else:\n",
    "            print('save me!')\n",
    "            sleep(3)"
   ]
  }
 ],
 "metadata": {
  "kernelspec": {
   "display_name": "Python 3",
   "language": "python",
   "name": "python3"
  },
  "language_info": {
   "codemirror_mode": {
    "name": "ipython",
    "version": 3
   },
   "file_extension": ".py",
   "mimetype": "text/x-python",
   "name": "python",
   "nbconvert_exporter": "python",
   "pygments_lexer": "ipython3",
   "version": "3.7.4"
  }
 },
 "nbformat": 4,
 "nbformat_minor": 2
}
