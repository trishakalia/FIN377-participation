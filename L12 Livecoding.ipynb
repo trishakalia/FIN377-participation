{
 "cells": [
  {
   "cell_type": "markdown",
   "metadata": {},
   "source": [
    "# Get a list of URLs for S&P 500 firms "
   ]
  },
  {
   "cell_type": "code",
   "execution_count": null,
   "metadata": {},
   "outputs": [],
   "source": [
    "#!pip install requests_html"
   ]
  },
  {
   "cell_type": "code",
   "execution_count": null,
   "metadata": {},
   "outputs": [],
   "source": [
    "import pandas as pd \n",
    "from requests_html import HTMLSession # HTMLs is how it opens pages \n",
    "url = 'https://en.wikipedia.org/wiki/List_of_S%26P_500_companies'\n",
    "session = HTMLSession()\n",
    "r = session.get(url)\n",
    "r.url\n",
    "# we want the links!\n",
    "# "
   ]
  },
  {
   "cell_type": "code",
   "execution_count": null,
   "metadata": {},
   "outputs": [],
   "source": [
    "# blunt force \n",
    "r.html.links # gives all the relative links  - you cant click on them \n",
    "r.html.absolute_links # makes this clickable immediately- you can clink on all of them \n",
    "\n",
    "# get the tabe \n",
    "r.html.find('table')  #[0]\n",
    "table = r.html.find('#constituents') [0] # id so use # sign \n",
    "table.text # just text \n",
    "table.html # print html \n",
    "\n",
    "# blunt force the table! \n",
    "table.absolute_links # extracted all urls from the table. still too many links but can \"dumb filter\"\n",
    " #pd.read_html(table.html)- only gives html tho \n"
   ]
  },
  {
   "cell_type": "code",
   "execution_count": null,
   "metadata": {},
   "outputs": [],
   "source": [
    "# lets loop over the rows\n",
    "table.find('tr')[0].text # header...we dont want that!\n",
    "table.find('tr')[1].text\n",
    "\n",
    "table_rows = table.find('tr')\n",
    "\n",
    "colinks = []\n",
    "for row in table_rows[1:]:\n",
    "    print(row.find('td')[1].absolute_links) # got swuigly bracket so a set \n",
    " # colink append  \n",
    "    a_link = list(row.find('td')[1].absolute_links)[0] \n",
    "    colinks.append(a_link)\n",
    "len(colinks)"
   ]
  },
  {
   "cell_type": "markdown",
   "metadata": {},
   "source": [
    "# Lets clean up the Data "
   ]
  },
  {
   "cell_type": "code",
   "execution_count": null,
   "metadata": {},
   "outputs": [],
   "source": [
    "import pandas as pd\n",
    "from requests_html import HTMLSession  # \n",
    "\n",
    "url = 'https://en.wikipedia.org/wiki/List_of_S%26P_500_companies'\n",
    "session = HTMLSession()\n",
    "r = session.get(url)\n",
    "\n",
    "# grab the URLs \n",
    "table = r.html.find('#constituents') [0] # id so use # sign \n",
    "table_rows = table.find('tr')\n",
    "colinks = []\n",
    "for row in table_rows[1:]:\n",
    "    colinks.append(list(row.find('td')[1].absolute_links)[0] )\n",
    "    "
   ]
  },
  {
   "cell_type": "markdown",
   "metadata": {},
   "source": [
    "# Practice Repo = similar to HW "
   ]
  },
  {
   "cell_type": "code",
   "execution_count": null,
   "metadata": {},
   "outputs": [],
   "source": [
    "\n",
    "\n",
    "import requests \n",
    "def search_itunes(search_term):\n",
    "    '''Simplified iTunes search'''\n",
    "    \n",
    "    base_url = 'https://itunes.apple.com/search'\n",
    "    search_parameters = {'term': search_term}\n",
    "    \n",
    "    r = requests.get(base_url, params = search_parameters)\n",
    "    \n",
    "    results_df = pd.DataFrame(r.json()['results'])\n",
    "    \n",
    "    return results_df\n",
    "search_itunes('billie eilish')      # one search at a time\n",
    "search_itunes('father john misty')) # \"another one\" - dj khaled\n",
    "\n",
    "artists = ['billie eilish','father john misty'] # you can loop over them!\n",
    "\n",
    "# download the results and save locally\n",
    "for artist in artists:\n",
    "    df = search_itunes(artist)\n",
    "    # you could do anything with the results here\n",
    "    # a good idea in many projects: save the webpage/search results\n",
    "    # even better: add the saving function inside the \"search_itunes\" fcn\n",
    "    # but this is just a toy illustration, so nothing happens\n",
    "    print(len(df)) \n",
    "    \n",
    "# LATER, you will want to analyze those files. Just loop over the files again:\n",
    "for artist in artists:\n",
    "    # load the saved file\n",
    "    # call a function you wrote to parse one file\n",
    "    # do something with the output from the parser\n",
    "    # but this is just a toy illustration, so nothing happens    \n",
    "    pass  "
   ]
  },
  {
   "cell_type": "code",
   "execution_count": null,
   "metadata": {},
   "outputs": [],
   "source": [
    " "
   ]
  }
 ],
 "metadata": {
  "kernelspec": {
   "display_name": "Python 3",
   "language": "python",
   "name": "python3"
  },
  "language_info": {
   "codemirror_mode": {
    "name": "ipython",
    "version": 3
   },
   "file_extension": ".py",
   "mimetype": "text/x-python",
   "name": "python",
   "nbconvert_exporter": "python",
   "pygments_lexer": "ipython3",
   "version": "3.7.4"
  }
 },
 "nbformat": 4,
 "nbformat_minor": 2
}
