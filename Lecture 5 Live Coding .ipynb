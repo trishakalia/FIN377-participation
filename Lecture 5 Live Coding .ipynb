{
 "cells": [
  {
   "cell_type": "code",
   "execution_count": 3,
   "metadata": {},
   "outputs": [
    {
     "ename": "SyntaxError",
     "evalue": "invalid syntax (<ipython-input-3-d7e70159ea65>, line 2)",
     "output_type": "error",
     "traceback": [
      "\u001b[1;36m  File \u001b[1;32m\"<ipython-input-3-d7e70159ea65>\"\u001b[1;36m, line \u001b[1;32m2\u001b[0m\n\u001b[1;33m    pd.\u001b[0m\n\u001b[1;37m       ^\u001b[0m\n\u001b[1;31mSyntaxError\u001b[0m\u001b[1;31m:\u001b[0m invalid syntax\n"
     ]
    }
   ],
   "source": [
    "import pandas as pd \n",
    "pd."
   ]
  },
  {
   "cell_type": "code",
   "execution_count": null,
   "metadata": {},
   "outputs": [],
   "source": [
    "import seaborn as sns\n",
    "iris = sns.load_dataset('iris')\n"
   ]
  },
  {
   "cell_type": "code",
   "execution_count": null,
   "metadata": {},
   "outputs": [],
   "source": [
    "iris\n",
    "#iris.head() # the top list \n",
    "iris.tail(10) # the bottom of the list "
   ]
  },
  {
   "cell_type": "code",
   "execution_count": 4,
   "metadata": {},
   "outputs": [
    {
     "ename": "NameError",
     "evalue": "name 'iris' is not defined",
     "output_type": "error",
     "traceback": [
      "\u001b[1;31m---------------------------------------------------------------------------\u001b[0m",
      "\u001b[1;31mNameError\u001b[0m                                 Traceback (most recent call last)",
      "\u001b[1;32m<ipython-input-4-4dc737cbb639>\u001b[0m in \u001b[0;36m<module>\u001b[1;34m\u001b[0m\n\u001b[1;32m----> 1\u001b[1;33m \u001b[0miris\u001b[0m\u001b[1;33m.\u001b[0m\u001b[0mshape\u001b[0m\u001b[1;33m\u001b[0m\u001b[1;33m\u001b[0m\u001b[0m\n\u001b[0m",
      "\u001b[1;31mNameError\u001b[0m: name 'iris' is not defined"
     ]
    }
   ],
   "source": [
    "iris.shape"
   ]
  },
  {
   "cell_type": "code",
   "execution_count": null,
   "metadata": {},
   "outputs": [],
   "source": [
    "iris.describe() # only gives numerical columns and count and mean and distribution info "
   ]
  },
  {
   "cell_type": "code",
   "execution_count": null,
   "metadata": {},
   "outputs": [],
   "source": [
    "iris ['species'].value_counts() # count the species and each value and count "
   ]
  },
  {
   "cell_type": "code",
   "execution_count": null,
   "metadata": {},
   "outputs": [],
   "source": [
    "iris['species'].nunique() # tells how many unique values "
   ]
  },
  {
   "cell_type": "markdown",
   "metadata": {},
   "source": [
    "# Run these above lines of code on data ALWAYS "
   ]
  },
  {
   "cell_type": "markdown",
   "metadata": {},
   "source": [
    "# got "
   ]
  },
  {
   "cell_type": "code",
   "execution_count": 14,
   "metadata": {},
   "outputs": [],
   "source": [
    "#TO USE datadotworld PACKAGE:\n",
    "#1. create account at data.world, then run the next two lines:\n",
    "#2. in terminal/powershell: pip install datadotworld[pandas]\n",
    "#\n",
    "#   IF THIS DOESN'T WORK BC YOU GET AN ERROR ABOUT \"CCHARDET\", RUN:\n",
    "#    conda install -c conda-forge cchardet\n",
    "#   THEN RERUN: pip install datadotworld[pandas] \n",
    "#\n",
    "#3. in terminal/powershell: dw configure          \n",
    "#3a. copy in API token from data.world (get from settings > advanced)\n",
    "\n",
    "import datadotworld as dw\n",
    "import numpy as np\n",
    "import pandas as pd\n",
    "import seaborn as sns\n",
    "import matplotlib.pyplot as plt\n",
    "\n",
    "\n",
    "baby_names = dw.load_dataset('nkrishnaswami/us-ssa-baby-names-national')\n",
    "baby_names = baby_names.dataframes['names_ranks_counts']"
   ]
  },
  {
   "cell_type": "code",
   "execution_count": 6,
   "metadata": {},
   "outputs": [
    {
     "data": {
      "text/plain": [
       "2008    35070\n",
       "2007    34950\n",
       "2009    34702\n",
       "2006    34082\n",
       "2010    34067\n",
       "2011    33903\n",
       "2012    33732\n",
       "2013    33269\n",
       "2014    33228\n",
       "2015    33098\n",
       "2016    32979\n",
       "2005    32546\n",
       "2017    32469\n",
       "2004    32046\n",
       "2018    32033\n",
       "2003    31183\n",
       "2002    30563\n",
       "2001    30269\n",
       "2000    29769\n",
       "1999    28550\n",
       "1998    27899\n",
       "1997    26971\n",
       "1996    26423\n",
       "1995    26080\n",
       "1994    25995\n",
       "1993    25966\n",
       "1992    25427\n",
       "1991    25105\n",
       "1990    24719\n",
       "1989    23773\n",
       "        ...  \n",
       "1909     4227\n",
       "1908     4018\n",
       "1907     3948\n",
       "1900     3730\n",
       "1905     3655\n",
       "1906     3633\n",
       "1904     3560\n",
       "1903     3389\n",
       "1902     3362\n",
       "1898     3264\n",
       "1901     3153\n",
       "1896     3091\n",
       "1895     3049\n",
       "1899     3042\n",
       "1897     3028\n",
       "1894     2941\n",
       "1892     2921\n",
       "1893     2831\n",
       "1890     2695\n",
       "1891     2660\n",
       "1888     2651\n",
       "1889     2590\n",
       "1886     2392\n",
       "1887     2373\n",
       "1884     2297\n",
       "1885     2294\n",
       "1882     2127\n",
       "1883     2084\n",
       "1880     2000\n",
       "1881     1935\n",
       "Name: year, Length: 139, dtype: int64"
      ]
     },
     "execution_count": 6,
     "metadata": {},
     "output_type": "execute_result"
    }
   ],
   "source": [
    "baby_names\n",
    "baby_names.head(10)\n",
    "baby_names.shape\n",
    "\n",
    "#look at number variables \n",
    "baby_names.describe()\n",
    "\n",
    "#look at category variables \n",
    "baby_names['sex'].nunique()\n",
    "baby_names['sex'].value_counts() #this isn't 50/50!...but thats ok \n",
    "baby_names['year'].value_counts()"
   ]
  },
  {
   "cell_type": "code",
   "execution_count": 7,
   "metadata": {},
   "outputs": [
    {
     "ename": "SyntaxError",
     "evalue": "positional argument follows keyword argument (<ipython-input-7-8ade79cb20f4>, line 9)",
     "output_type": "error",
     "traceback": [
      "\u001b[1;36m  File \u001b[1;32m\"<ipython-input-7-8ade79cb20f4>\"\u001b[1;36m, line \u001b[1;32m9\u001b[0m\n\u001b[1;33m    sns.lineplot(data=combined, x-'year', y='count')\u001b[0m\n\u001b[1;37m                               ^\u001b[0m\n\u001b[1;31mSyntaxError\u001b[0m\u001b[1;31m:\u001b[0m positional argument follows keyword argument\n"
     ]
    }
   ],
   "source": [
    "#lets count johns over time \n",
    "\n",
    "somenames = baby_names.loc[baby_names['name'] =='John'   ]\n",
    "combines = somenames.groupby(['name', 'year']) ['count'].sum(). reset_index() # this has split the dataset up \n",
    "sns.lineplot(data=combines,x='year', y='count')\n",
    "# turn year into a variable!\n",
    "\n",
    "combined \n",
    "sns.lineplot(data=combined, x-'year', y='count')"
   ]
  },
  {
   "cell_type": "code",
   "execution_count": 13,
   "metadata": {},
   "outputs": [
    {
     "ename": "SyntaxError",
     "evalue": "invalid syntax (<ipython-input-13-1eb7e8d682a0>, line 8)",
     "output_type": "error",
     "traceback": [
      "\u001b[1;36m  File \u001b[1;32m\"<ipython-input-13-1eb7e8d682a0>\"\u001b[1;36m, line \u001b[1;32m8\u001b[0m\n\u001b[1;33m    names_i_want = (baby_names ['name'] == 'Sansa') | (baby_names ['names'] == 'Arya')\u001b[0m\n\u001b[1;37m               ^\u001b[0m\n\u001b[1;31mSyntaxError\u001b[0m\u001b[1;31m:\u001b[0m invalid syntax\n"
     ]
    }
   ],
   "source": [
    "#arya and sansa \n",
    "\n",
    "somenames = (baby_names.loc[baby_names['name'] =='Arya'   ]\n",
    "\n",
    "#make life easier\n",
    "# | means \"or\" to pandas \n",
    "\n",
    "names_i_want = (baby_names ['name'] == 'Sansa') | (baby_names ['names'] == 'Arya')\n",
    "names_i_want.sum()"
   ]
  },
  {
   "cell_type": "code",
   "execution_count": null,
   "metadata": {},
   "outputs": [],
   "source": [
    "#Query!!!\n",
    "\n",
    "somenames = baby_names.query('name in ['Arya', 'Sansa']') # query needs a string with t/f conditions \n",
    "combined = somenames.groupby(['name,'year'])['count'].sum().reset_index()\n",
    "sns.lineplot(data=combined, x='year',y='count', hue='name')"
   ]
  },
  {
   "cell_type": "code",
   "execution_count": 12,
   "metadata": {},
   "outputs": [
    {
     "data": {
      "text/plain": [
       "<matplotlib.axes._subplots.AxesSubplot at 0x19be67e4548>"
      ]
     },
     "execution_count": 12,
     "metadata": {},
     "output_type": "execute_result"
    },
    {
     "data": {
      "image/png": "[encoded data removed]",
      "text/plain": [
       "<Figure size 432x288 with 1 Axes>"
      ]
     },
     "metadata": {
      "needs_background": "light"
     },
     "output_type": "display_data"
    }
   ],
   "source": [
    "# i don't want \"somenames\"\n",
    "\n",
    "( # perenthesis mean everything in the middle...is one line of code \n",
    "baby_names\n",
    "    .query('name in [\"Arya\", \"Sansa\"]')  # get a subsample \n",
    "    .groupby (['name', 'year']) ['count'].sum().reset_index() \n",
    "    .pipe( #\"pipe\" in function to aply to this object \n",
    "           # syntax: <function>, arg 1, arg 2, .....\n",
    "        (sns.lineplot,'data'), # call the fucntion and tell it tha \n",
    "                              # the object in memory goes to the parameter 'data'\n",
    "        x='year', y='count', hue='name')\n",
    ")"
   ]
  },
  {
   "cell_type": "code",
   "execution_count": 11,
   "metadata": {},
   "outputs": [
    {
     "data": {
      "text/plain": [
       "Text(0.5, 1.0, 'WOW THAT WAS EASY TO WRITE AND SHARE')"
      ]
     },
     "execution_count": 11,
     "metadata": {},
     "output_type": "execute_result"
    },
    {
     "data": {
      "image/png": "[encoded data removed]",
      "text/plain": [
       "<Figure size 432x288 with 1 Axes>"
      ]
     },
     "metadata": {
      "needs_background": "light"
     },
     "output_type": "display_data"
    }
   ],
   "source": [
    "(baby_names\n",
    "      .query('name in [\"Sansa\",\"Daenerys\",\"Brienne\",\"Cersei\",\"Tyrion\"] & \\\n",
    "         year >= 2000')\n",
    "      .groupby(['name','year'])['count'].sum() # for each name-year, combine M and F counts\n",
    "      .reset_index() # give us the column names back as they were (makes the plot call easy)\n",
    "      .pipe((sns.lineplot, 'data'),hue='name',x='year',y='count')\n",
    ")    \n",
    "plt.axvline(2011, 0,160,color='red') # add a line for when the show debuted\n",
    "plt.title(\"WOW THAT WAS EASY TO WRITE AND SHARE\")"
   ]
  },
  {
   "cell_type": "markdown",
   "metadata": {},
   "source": [
    "# Your turn - FRED data "
   ]
  },
  {
   "cell_type": "code",
   "execution_count": 10,
   "metadata": {},
   "outputs": [
    {
     "data": {
      "text/plain": [
       "(37, 2)"
      ]
     },
     "execution_count": 10,
     "metadata": {},
     "output_type": "execute_result"
    }
   ],
   "source": [
    "import datetime \n",
    "import pandas_datareader as pdr \n",
    "\n",
    "start= datetime.datetime(2010, 1, 1) # you can specify start and eend dates this way \n",
    "end = datetime.datetime(2013, 1, 27)\n",
    "macro_df = pdr.data.DataReader(['GDP','CPIAUCSL'], 'fred', start, end)\n",
    "\n",
    "\n",
    "macro_df.describe\n",
    "macro_df.shape\n"
   ]
  },
  {
   "cell_type": "code",
   "execution_count": 19,
   "metadata": {},
   "outputs": [],
   "source": [
    "#download annual real GDP \n",
    "start= datetime.datetime(1960, 1, 1) # you can specify start and eend dates this way \n",
    "end = datetime.datetime(2018, 1, 27)\n",
    "macro_df = pdr.data.DataReader(['GDPCA'], 'fred', start, end)"
   ]
  },
  {
   "cell_type": "code",
   "execution_count": 20,
   "metadata": {},
   "outputs": [
    {
     "data": {
      "text/html": [
       "<div>\n",
       "<style scoped>\n",
       "    .dataframe tbody tr th:only-of-type {\n",
       "        vertical-align: middle;\n",
       "    }\n",
       "\n",
       "    .dataframe tbody tr th {\n",
       "        vertical-align: top;\n",
       "    }\n",
       "\n",
       "    .dataframe thead th {\n",
       "        text-align: right;\n",
       "    }\n",
       "</style>\n",
       "<table border=\"1\" class=\"dataframe\">\n",
       "  <thead>\n",
       "    <tr style=\"text-align: right;\">\n",
       "      <th></th>\n",
       "      <th>GDPCA</th>\n",
       "    </tr>\n",
       "  </thead>\n",
       "  <tbody>\n",
       "    <tr>\n",
       "      <th>count</th>\n",
       "      <td>59.000000</td>\n",
       "    </tr>\n",
       "    <tr>\n",
       "      <th>mean</th>\n",
       "      <td>9846.197831</td>\n",
       "    </tr>\n",
       "    <tr>\n",
       "      <th>std</th>\n",
       "      <td>4666.452335</td>\n",
       "    </tr>\n",
       "    <tr>\n",
       "      <th>min</th>\n",
       "      <td>3259.971000</td>\n",
       "    </tr>\n",
       "    <tr>\n",
       "      <th>25%</th>\n",
       "      <td>5671.836000</td>\n",
       "    </tr>\n",
       "    <tr>\n",
       "      <th>50%</th>\n",
       "      <td>9192.134000</td>\n",
       "    </tr>\n",
       "    <tr>\n",
       "      <th>75%</th>\n",
       "      <td>14142.755500</td>\n",
       "    </tr>\n",
       "    <tr>\n",
       "      <th>max</th>\n",
       "      <td>18638.164000</td>\n",
       "    </tr>\n",
       "  </tbody>\n",
       "</table>\n",
       "</div>"
      ],
      "text/plain": [
       "              GDPCA\n",
       "count     59.000000\n",
       "mean    9846.197831\n",
       "std     4666.452335\n",
       "min     3259.971000\n",
       "25%     5671.836000\n",
       "50%     9192.134000\n",
       "75%    14142.755500\n",
       "max    18638.164000"
      ]
     },
     "execution_count": 20,
     "metadata": {},
     "output_type": "execute_result"
    }
   ],
   "source": [
    "macro_df.describe()"
   ]
  },
  {
   "cell_type": "code",
   "execution_count": 17,
   "metadata": {},
   "outputs": [],
   "source": [
    "# the average gdp percent change \n",
    "start= datetime.datetime(1960, 1, 1) # you can specify start and eend dates this way \n",
    "end = datetime.datetime(2018, 1, 27)\n",
    "macro_df = pdr.data.DataReader(['CPGDPAI'], 'fred', start, end)"
   ]
  },
  {
   "cell_type": "code",
   "execution_count": 18,
   "metadata": {},
   "outputs": [
    {
     "data": {
      "text/html": [
       "<div>\n",
       "<style scoped>\n",
       "    .dataframe tbody tr th:only-of-type {\n",
       "        vertical-align: middle;\n",
       "    }\n",
       "\n",
       "    .dataframe tbody tr th {\n",
       "        vertical-align: top;\n",
       "    }\n",
       "\n",
       "    .dataframe thead th {\n",
       "        text-align: right;\n",
       "    }\n",
       "</style>\n",
       "<table border=\"1\" class=\"dataframe\">\n",
       "  <thead>\n",
       "    <tr style=\"text-align: right;\">\n",
       "      <th></th>\n",
       "      <th>CPGDPAI</th>\n",
       "    </tr>\n",
       "  </thead>\n",
       "  <tbody>\n",
       "    <tr>\n",
       "      <th>count</th>\n",
       "      <td>52.000000</td>\n",
       "    </tr>\n",
       "    <tr>\n",
       "      <th>mean</th>\n",
       "      <td>1.748077</td>\n",
       "    </tr>\n",
       "    <tr>\n",
       "      <th>std</th>\n",
       "      <td>2.412670</td>\n",
       "    </tr>\n",
       "    <tr>\n",
       "      <th>min</th>\n",
       "      <td>-8.400000</td>\n",
       "    </tr>\n",
       "    <tr>\n",
       "      <th>25%</th>\n",
       "      <td>0.825000</td>\n",
       "    </tr>\n",
       "    <tr>\n",
       "      <th>50%</th>\n",
       "      <td>2.200000</td>\n",
       "    </tr>\n",
       "    <tr>\n",
       "      <th>75%</th>\n",
       "      <td>3.200000</td>\n",
       "    </tr>\n",
       "    <tr>\n",
       "      <th>max</th>\n",
       "      <td>5.500000</td>\n",
       "    </tr>\n",
       "  </tbody>\n",
       "</table>\n",
       "</div>"
      ],
      "text/plain": [
       "         CPGDPAI\n",
       "count  52.000000\n",
       "mean    1.748077\n",
       "std     2.412670\n",
       "min    -8.400000\n",
       "25%     0.825000\n",
       "50%     2.200000\n",
       "75%     3.200000\n",
       "max     5.500000"
      ]
     },
     "execution_count": 18,
     "metadata": {},
     "output_type": "execute_result"
    }
   ],
   "source": [
    "macro_df.describe() # group by decades \n",
    "# create a variable of % change \n",
    "# call a variable decade "
   ]
  }
 ],
 "metadata": {
  "kernelspec": {
   "display_name": "Python 3",
   "language": "python",
   "name": "python3"
  },
  "language_info": {
   "codemirror_mode": {
    "name": "ipython",
    "version": 3
   },
   "file_extension": ".py",
   "mimetype": "text/x-python",
   "name": "python",
   "nbconvert_exporter": "python",
   "pygments_lexer": "ipython3",
   "version": "3.7.4"
  }
 },
 "nbformat": 4,
 "nbformat_minor": 2
}
