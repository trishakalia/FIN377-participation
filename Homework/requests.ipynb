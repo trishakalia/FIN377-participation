{
 "cells": [
  {
   "cell_type": "code",
   "execution_count": 2,
   "metadata": {},
   "outputs": [],
   "source": [
    "import pandas as pd\n",
    "from requests_html import HTMLSession\n",
    "import os\n",
    "import re\n",
    "from time import sleep\n",
    "from tqdm.notebook import tqdm # progress bar\n",
    "\n",
    "session = HTMLSession()"
   ]
  },
  {
   "cell_type": "code",
   "execution_count": 1,
   "metadata": {},
   "outputs": [
    {
     "ename": "NameError",
     "evalue": "name 'HTMLSession' is not defined",
     "output_type": "error",
     "traceback": [
      "\u001b[1;31m---------------------------------------------------------------------------\u001b[0m",
      "\u001b[1;31mNameError\u001b[0m                                 Traceback (most recent call last)",
      "\u001b[1;32m<ipython-input-1-f1b7adf42444>\u001b[0m in \u001b[0;36m<module>\u001b[1;34m\u001b[0m\n\u001b[1;32m----> 1\u001b[1;33m \u001b[0msession\u001b[0m \u001b[1;33m=\u001b[0m \u001b[0mHTMLSession\u001b[0m\u001b[1;33m(\u001b[0m\u001b[1;33m)\u001b[0m\u001b[1;33m\u001b[0m\u001b[1;33m\u001b[0m\u001b[0m\n\u001b[0m\u001b[0;32m      2\u001b[0m \u001b[0murl\u001b[0m \u001b[1;33m=\u001b[0m \u001b[1;34m'https://en.m.wikipedia.org/wiki/List_of_S%26P_500_companies'\u001b[0m\u001b[1;33m\u001b[0m\u001b[1;33m\u001b[0m\u001b[0m\n\u001b[0;32m      3\u001b[0m \u001b[0mr\u001b[0m \u001b[1;33m=\u001b[0m \u001b[0msession\u001b[0m\u001b[1;33m.\u001b[0m\u001b[0mget\u001b[0m\u001b[1;33m(\u001b[0m\u001b[0murl\u001b[0m\u001b[1;33m)\u001b[0m\u001b[1;33m\u001b[0m\u001b[1;33m\u001b[0m\u001b[0m\n\u001b[0;32m      4\u001b[0m \u001b[0mr\u001b[0m\u001b[1;33m.\u001b[0m\u001b[0mhtml\u001b[0m\u001b[1;33m.\u001b[0m\u001b[0mlinks\u001b[0m \u001b[1;31m# gives all the relative links  - you cant click on them\u001b[0m\u001b[1;33m\u001b[0m\u001b[1;33m\u001b[0m\u001b[0m\n\u001b[0;32m      5\u001b[0m \u001b[0mr\u001b[0m\u001b[1;33m.\u001b[0m\u001b[0mhtml\u001b[0m\u001b[1;33m.\u001b[0m\u001b[0mabsolute_links\u001b[0m \u001b[1;31m# makes this clickable immediately- you can clink on all of them\u001b[0m\u001b[1;33m\u001b[0m\u001b[1;33m\u001b[0m\u001b[0m\n",
      "\u001b[1;31mNameError\u001b[0m: name 'HTMLSession' is not defined"
     ]
    }
   ],
   "source": [
    "session = HTMLSession() \n",
    "url = 'https://en.m.wikipedia.org/wiki/List_of_S%26P_500_companies'\n",
    "r = session.get(url)\n",
    "r.html.links # gives all the relative links  - you cant click on them \n",
    "r.html.absolute_links # makes this clickable immediately- you can clink on all of them \n",
    "\n",
    "# get the tabe \n",
    "r.html.find('table')  #[0]\n",
    "table = r.html.find('#constituents') [0] # id so use # sign \n",
    "table.text # just text \n",
    "table.html # print html \n",
    "\n",
    "# blunt force the table! \n",
    "table.absolute_links # extracted all urls from the table. still too many links but can \"dumb filter\"\n",
    " #pd.read_html(table.html)- only gives html tho \n",
    "r.html.links # gives all the relative links  - you cant click on them \n",
    "r.html.absolute_links # makes this clickable immediately- you can clink on all of them \n",
    "\n",
    "# get the tabe \n",
    "r.html.find('table')  #[0]\n",
    "table = r.html.find('#constituents') [0] # id so use # sign \n",
    "table.text # just text \n",
    "table.html # print html \n",
    "\n",
    "# blunt force the table! \n",
    "table.absolute_links # extracted all urls from the table. still too many links but can \"dumb filter\"\n",
    " #pd.read_html(table.html)- only gives html tho \n",
    "table.find('tr')[0].text # header...we dont want that!\n",
    "table.find('tr')[1].text\n",
    "\n",
    "table_rows = table.find('tr')\n",
    "\n",
    "colinks = []\n",
    "for row in table_rows[1:]:\n",
    "    print(row.find('td')[1].absolute_links) # got swuigly bracket so a set \n",
    " # colink append  \n",
    "    a_link = list(row.find('td')[1].absolute_links)[0] \n",
    "    colinks.append(a_link)\n",
    "len(colinks)"
   ]
  }
 ],
 "metadata": {
  "kernelspec": {
   "display_name": "Python 3",
   "language": "python",
   "name": "python3"
  },
  "language_info": {
   "codemirror_mode": {
    "name": "ipython",
    "version": 3
   },
   "file_extension": ".py",
   "mimetype": "text/x-python",
   "name": "python",
   "nbconvert_exporter": "python",
   "pygments_lexer": "ipython3",
   "version": "3.7.4"
  }
 },
 "nbformat": 4,
 "nbformat_minor": 2
}
